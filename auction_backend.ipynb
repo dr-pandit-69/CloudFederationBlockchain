{
 "cells": [
  {
   "cell_type": "code",
   "execution_count": 13,
   "metadata": {},
   "outputs": [],
   "source": [
    "from web3 import Web3, AsyncWeb3\n",
    "import json\n",
    "from mnemonic import Mnemonic\n",
    "from eth_utils import to_hex"
   ]
  },
  {
   "cell_type": "code",
   "execution_count": 5,
   "metadata": {},
   "outputs": [],
   "source": [
    "address_required_count=270"
   ]
  },
  {
   "cell_type": "code",
   "execution_count": 17,
   "metadata": {},
   "outputs": [
    {
     "name": "stdout",
     "output_type": "stream",
     "text": [
      "New Mnemonic: 528\n",
      "obvious excuse virus couch derive field cage spider dial oven dumb fish pink adult eight entire arrow require pull cherry peasant monster empower dawn enforce axis tooth rule main flat rotate spin uncover hero mention abandon cabbage tank jelly middle trash someone work label soon hint silent romance measure update confirm easy pencil egg issue hand engine lemon blood speed power struggle bachelor peasant face buddy matrix destroy saddle climb cloud game drum mother gasp march ripple gesture lab receive robust pudding conduct crush clay produce captain involve wealth margin avocado affair arrest lounge kite word heart energy lava fresh lady negative body habit regular exchange talent adult double speak audit damp border drink execute faculty swim empty tonight resource doll peanut prize mixed liar save scatter guitar village original usage left arrange soup unfold winner goat unknown awful confirm immune screen raise transfer weapon rhythm banana about opinion sell endless govern humor unfair maze alley arctic toast invest bulb acid wagon call need logic ugly special charge illness access slogan picnic knife busy fiction fitness portion math patient cook mansion final original echo garment ugly edge medal answer material buyer potato code tattoo wash beauty donate glance trend leaf extra tongue series silly burden search warfare age phrase mercy income deal exotic easily breeze energy identify nuclear cat purity slide team nurse cabin mesh science patch utility hurry polar flag noble nest matrix toast fox wife slot cabin decorate slab report ticket uncle total spike drama left list ocean cradle stereo hybrid never recycle lock demise right behave father dose excuse lumber lift flame below pitch sausage wisdom business pupil file gallery crew shoot vote chicken icon expand ability match ensure eyebrow achieve between guess ring easy live hood pitch until source under wet quick spend dolphin focus tackle base token machine cabin enrich quick nut save spider across surge increase tattoo myself visual include decline property tattoo great toddler island club weather adjust tissue private limb margin riot lottery finger impulse punch holiday nuclear hover neck shoe cupboard want industry start engine hotel upset enforce cupboard family control kid awake assume chef exclude ankle stick dance will fancy avocado return chef inch kit pool civil dash kitten deputy churn people panic angle rally mountain section copy notice drift vapor ensure ski sphere meat circle task social fiber squeeze early social enrich stove jazz sight produce ice language dog liar access yard mechanic tornado ill horror pass party clutch liar offer settle solve advance stick picnic tuna flock into orient acid general truly hobby empty outer ladder walnut smart snake boat online remain winner junk view mail shrug rigid axis denial acquire flavor history slow glide under about solve gun elephant pistol pause carpet trouble arrange spell album furnace feel rally casino tenant coin risk say alone coil couple unlock october youth powder print fringe weird canoe pudding west noise mechanic club differ feel oppose help endorse bronze open drip supreme bulb calm verb small vote recall famous property cupboard merit blush wise inform clean parent air oppose glimpse purchase cattle polar mutual garbage remember start quiz sing ridge reward remember universe ignore color ostrich buddy ice\n"
     ]
    }
   ],
   "source": [
    "\n",
    "\n",
    "def generate_mnemonic(num_words):\n",
    "    strength = {\n",
    "        12: 128,\n",
    "        15: 160,\n",
    "        18: 192,\n",
    "        21: 224,\n",
    "        24: 256\n",
    "    }\n",
    "\n",
    "    mnemo = Mnemonic(\"english\")  \n",
    "    words = []\n",
    "    \n",
    "    \n",
    "    nearest = min(strength.keys(), key=lambda x: x - num_words if x >= num_words else float('inf'))\n",
    "    \n",
    "\n",
    "    for i in range(num_words // nearest):\n",
    "        words.append(mnemo.generate(strength[nearest]))\n",
    "\n",
    "    return ' '.join(words)\n",
    "\n",
    "\n",
    "num_words = 530\n",
    "mnemonic = generate_mnemonic(num_words)\n",
    "print(\"New Mnemonic:\", len(mnemonic.split(\" \")))\n",
    "print(mnemonic)\n"
   ]
  },
  {
   "cell_type": "code",
   "execution_count": 18,
   "metadata": {},
   "outputs": [],
   "source": [
    "w3 = Web3(Web3.HTTPProvider('HTTP://127.0.0.1:7545'))"
   ]
  },
  {
   "cell_type": "code",
   "execution_count": 19,
   "metadata": {},
   "outputs": [
    {
     "ename": "FileNotFoundError",
     "evalue": "[Errno 2] No such file or directory: 'path/to/your/contract.abi'",
     "output_type": "error",
     "traceback": [
      "\u001b[0;31m---------------------------------------------------------------------------\u001b[0m",
      "\u001b[0;31mFileNotFoundError\u001b[0m                         Traceback (most recent call last)",
      "Cell \u001b[0;32mIn[19], line 3\u001b[0m\n\u001b[1;32m      1\u001b[0m \u001b[38;5;66;03m#w3.eth.get_block('latest')\u001b[39;00m\n\u001b[0;32m----> 3\u001b[0m \u001b[38;5;28;01mwith\u001b[39;00m \u001b[38;5;28;43mopen\u001b[39;49m\u001b[43m(\u001b[49m\u001b[38;5;124;43m'\u001b[39;49m\u001b[38;5;124;43mpath/to/your/contract.abi\u001b[39;49m\u001b[38;5;124;43m'\u001b[39;49m\u001b[43m,\u001b[49m\u001b[43m \u001b[49m\u001b[38;5;124;43m'\u001b[39;49m\u001b[38;5;124;43mr\u001b[39;49m\u001b[38;5;124;43m'\u001b[39;49m\u001b[43m)\u001b[49m \u001b[38;5;28;01mas\u001b[39;00m abi_file:\n\u001b[1;32m      4\u001b[0m     abi \u001b[38;5;241m=\u001b[39m json\u001b[38;5;241m.\u001b[39mload(abi_file)\n\u001b[1;32m      6\u001b[0m \u001b[38;5;66;03m# Contract address\u001b[39;00m\n",
      "File \u001b[0;32m~/.local/share/virtualenvs/Pavan_Research-KDhHaMn4/lib/python3.11/site-packages/IPython/core/interactiveshell.py:324\u001b[0m, in \u001b[0;36m_modified_open\u001b[0;34m(file, *args, **kwargs)\u001b[0m\n\u001b[1;32m    317\u001b[0m \u001b[38;5;28;01mif\u001b[39;00m file \u001b[38;5;129;01min\u001b[39;00m {\u001b[38;5;241m0\u001b[39m, \u001b[38;5;241m1\u001b[39m, \u001b[38;5;241m2\u001b[39m}:\n\u001b[1;32m    318\u001b[0m     \u001b[38;5;28;01mraise\u001b[39;00m \u001b[38;5;167;01mValueError\u001b[39;00m(\n\u001b[1;32m    319\u001b[0m         \u001b[38;5;124mf\u001b[39m\u001b[38;5;124m\"\u001b[39m\u001b[38;5;124mIPython won\u001b[39m\u001b[38;5;124m'\u001b[39m\u001b[38;5;124mt let you open fd=\u001b[39m\u001b[38;5;132;01m{\u001b[39;00mfile\u001b[38;5;132;01m}\u001b[39;00m\u001b[38;5;124m by default \u001b[39m\u001b[38;5;124m\"\u001b[39m\n\u001b[1;32m    320\u001b[0m         \u001b[38;5;124m\"\u001b[39m\u001b[38;5;124mas it is likely to crash IPython. If you know what you are doing, \u001b[39m\u001b[38;5;124m\"\u001b[39m\n\u001b[1;32m    321\u001b[0m         \u001b[38;5;124m\"\u001b[39m\u001b[38;5;124myou can use builtins\u001b[39m\u001b[38;5;124m'\u001b[39m\u001b[38;5;124m open.\u001b[39m\u001b[38;5;124m\"\u001b[39m\n\u001b[1;32m    322\u001b[0m     )\n\u001b[0;32m--> 324\u001b[0m \u001b[38;5;28;01mreturn\u001b[39;00m \u001b[43mio_open\u001b[49m\u001b[43m(\u001b[49m\u001b[43mfile\u001b[49m\u001b[43m,\u001b[49m\u001b[43m \u001b[49m\u001b[38;5;241;43m*\u001b[39;49m\u001b[43margs\u001b[49m\u001b[43m,\u001b[49m\u001b[43m \u001b[49m\u001b[38;5;241;43m*\u001b[39;49m\u001b[38;5;241;43m*\u001b[39;49m\u001b[43mkwargs\u001b[49m\u001b[43m)\u001b[49m\n",
      "\u001b[0;31mFileNotFoundError\u001b[0m: [Errno 2] No such file or directory: 'path/to/your/contract.abi'"
     ]
    }
   ],
   "source": [
    "#w3.eth.get_block('latest')\n",
    "\n",
    "with open('path/to/your/contract.abi', 'r') as abi_file:\n",
    "    abi = json.load(abi_file)\n",
    "\n",
    "# Contract address\n",
    "contract_address = \"0x...your_contract_address...\"\n",
    "\n",
    "# Instantiate contract\n",
    "contract = w3.eth.contract(address=contract_address, abi=abi)\n",
    "\n",
    "# Example function call\n",
    "result = contract.functions.myFunction().call()\n",
    "print(result)"
   ]
  },
  {
   "cell_type": "code",
   "execution_count": null,
   "metadata": {},
   "outputs": [],
   "source": [
    "#Mapping Code (Algorithm)"
   ]
  },
  {
   "cell_type": "code",
   "execution_count": null,
   "metadata": {},
   "outputs": [],
   "source": [
    "#Results pushed to blockchain"
   ]
  }
 ],
 "metadata": {
  "kernelspec": {
   "display_name": "Python 3",
   "language": "python",
   "name": "python3"
  },
  "language_info": {
   "codemirror_mode": {
    "name": "ipython",
    "version": 3
   },
   "file_extension": ".py",
   "mimetype": "text/x-python",
   "name": "python",
   "nbconvert_exporter": "python",
   "pygments_lexer": "ipython3",
   "version": "3.11.5"
  }
 },
 "nbformat": 4,
 "nbformat_minor": 2
}
